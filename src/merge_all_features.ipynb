{
 "cells": [
  {
   "cell_type": "code",
   "execution_count": 3,
   "metadata": {},
   "outputs": [],
   "source": [
    "import pandas as pd\n",
    "import numpy as np\n",
    "\n",
    "extra_1 = pd.read_csv(\"extra_features/meta_conf_skew.csv\")\n",
    "extra_2 = pd.read_csv(\"extra_features/krueger+minority.csv\")\n",
    "extra_3 = pd.read_csv(\"~/DATA_1030/Final_Project/Final_Datasets/Predictive_Models_Features/Calculate_Prelec/prelec_prediction.csv\")\n",
    "\n",
    "#Import Dataset\n",
    "df = pd.read_csv(\"core_features.csv\")\n",
    "q = df[\"q\"]\n",
    "df = df.set_index('q') "
   ]
  },
  {
   "cell_type": "code",
   "execution_count": 7,
   "metadata": {},
   "outputs": [],
   "source": [
    "extra_2 = extra_2.set_index('question') \n",
    "extra_1 = extra_1.set_index('question') \n",
    "extra_3 = extra_3.set_index('q') "
   ]
  },
  {
   "cell_type": "code",
   "execution_count": 8,
   "metadata": {},
   "outputs": [
    {
     "name": "stderr",
     "output_type": "stream",
     "text": [
      "/opt/conda/lib/python3.7/site-packages/ipykernel_launcher.py:1: FutureWarning: Sorting because non-concatenation axis is not aligned. A future version\n",
      "of pandas will change to not sort by default.\n",
      "\n",
      "To accept the future behavior, pass 'sort=False'.\n",
      "\n",
      "To retain the current behavior and silence the warning, pass 'sort=True'.\n",
      "\n",
      "  \"\"\"Entry point for launching an IPython kernel.\n"
     ]
    }
   ],
   "source": [
    "df_final = pd.concat([df, extra_1, extra_2, extra_3], axis=1)"
   ]
  },
  {
   "cell_type": "code",
   "execution_count": 9,
   "metadata": {},
   "outputs": [],
   "source": [
    "arr = []\n",
    "for c in df_final.columns:\n",
    "    if \"meta\" in c:\n",
    "        c = c.replace(\"meta\", \"sc\")\n",
    "    arr.append(c)\n",
    "df_final.columns = arr"
   ]
  },
  {
   "cell_type": "code",
   "execution_count": 10,
   "metadata": {},
   "outputs": [],
   "source": [
    "df_final[\"majority_prediction\"] = np.where(df_final['own'] > 0.5, 1, 0)"
   ]
  },
  {
   "cell_type": "code",
   "execution_count": 11,
   "metadata": {},
   "outputs": [
    {
     "data": {
      "text/plain": [
       "Index(['actual', 'confidence_(0.5, 0.55]', 'confidence_(0.55, 0.6]',\n",
       "       'confidence_(0.6, 0.65]', 'confidence_(0.65, 0.7]',\n",
       "       'confidence_(0.7, 0.75]', 'confidence_(0.75, 0.8]',\n",
       "       'confidence_(0.8, 0.85]', 'confidence_(0.85, 0.9]',\n",
       "       'confidence_(0.9, 0.95]', 'confidence_(0.95, 1.0]', 'sc_(0.0, 0.05]',\n",
       "       'sc_(0.05, 0.1]', 'sc_(0.1, 0.15]', 'sc_(0.15, 0.2]', 'sc_(0.2, 0.25]',\n",
       "       'sc_(0.25, 0.3]', 'sc_(0.3, 0.35]', 'sc_(0.35, 0.4]', 'sc_(0.4, 0.45]',\n",
       "       'sc_(0.45, 0.5]', 'sc_(0.5, 0.55]', 'sc_(0.55, 0.6]', 'sc_(0.6, 0.65]',\n",
       "       'sc_(0.65, 0.7]', 'sc_(0.7, 0.75]', 'sc_(0.75, 0.8]', 'sc_(0.8, 0.85]',\n",
       "       'sc_(0.85, 0.9]', 'sc_(0.9, 0.95]', 'sc_(0.95, 1.0]',\n",
       "       'number_of_participants', 'own', 'topic', 'mean_sc', 'std_sc', 'min_sc',\n",
       "       'p25_sc', 'p50_sc', 'p75_sc', 'max_sc', 'mean_conf', 'std_conf',\n",
       "       'min_conf', 'p25_conf', 'p50_conf', 'p75_conf', 'max_conf', 'skew_own',\n",
       "       'skew_sc', 'skew_conf', 'skew_row_average', 'skew_row_skew',\n",
       "       'minority_percentage', 'real_expert_number', 'P_expert_number_rT',\n",
       "       'P_expert_number_rF', 'MEAN_P_expert_rT', 'MEAN_P_expert_rF',\n",
       "       'prelec_prediction', 'majority_prediction'],\n",
       "      dtype='object')"
      ]
     },
     "execution_count": 11,
     "metadata": {},
     "output_type": "execute_result"
    }
   ],
   "source": [
    "df_final.columns"
   ]
  },
  {
   "cell_type": "code",
   "execution_count": 13,
   "metadata": {},
   "outputs": [],
   "source": [
    "df_final.to_csv(\"not_preprocessed.csv\")"
   ]
  },
  {
   "cell_type": "code",
   "execution_count": null,
   "metadata": {},
   "outputs": [],
   "source": []
  }
 ],
 "metadata": {
  "kernelspec": {
   "display_name": "Python 3",
   "language": "python",
   "name": "python3"
  },
  "language_info": {
   "codemirror_mode": {
    "name": "ipython",
    "version": 3
   },
   "file_extension": ".py",
   "mimetype": "text/x-python",
   "name": "python",
   "nbconvert_exporter": "python",
   "pygments_lexer": "ipython3",
   "version": "3.7.3"
  }
 },
 "nbformat": 4,
 "nbformat_minor": 4
}
