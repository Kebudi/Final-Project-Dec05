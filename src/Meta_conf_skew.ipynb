{
 "cells": [
  {
   "cell_type": "code",
   "execution_count": 32,
   "metadata": {},
   "outputs": [],
   "source": [
    "import pandas as pd\n",
    "import numpy as np\n",
    "\n",
    "study_1c = pd.read_csv('/home/jovyan/DATA_1030/Final_Project/crowd_wisdom_data/study1c.csv')\n",
    "study_2 = pd.read_csv('/home/jovyan/DATA_1030/Final_Project/crowd_wisdom_data/study2.csv')\n",
    "study_3 = pd.read_csv('/home/jovyan/DATA_1030/Final_Project/crowd_wisdom_data/study3.csv')\n",
    "# dta = pd.read_csv(\"Final_Datasets/final_dataset_no_topics.csv\")\n",
    "\n",
    "study_1c[\"meta\"] = np.where(study_1c['own'] == 0, 1-study_1c['meta'], study_1c['meta'])\n",
    "study_2[\"meta\"] = np.where(study_2['own'] == 0, 1-study_2['meta'], study_2['meta'])\n",
    "study_3[\"meta\"] = np.where(study_3['own'] == 0, 1-study_3['meta'], study_3['meta'])"
   ]
  },
  {
   "cell_type": "code",
   "execution_count": 33,
   "metadata": {},
   "outputs": [],
   "source": [
    "study_1c = study_1c.drop([\"expt city\", \"subject\", \"actual\"], axis=1)\n",
    "study_1c.columns = [\"question\", \"own\", \"meta\", \"confidence\"]\n",
    "study_1c = study_1c[[\"own\", \"question\", \"meta\", \"confidence\"]]"
   ]
  },
  {
   "cell_type": "code",
   "execution_count": 34,
   "metadata": {},
   "outputs": [],
   "source": [
    "study_2 = study_2.drop(['subject', 'qname', \"actual\",], axis=1)\n",
    "study_2.columns = [\"own\", \"meta\", \"question\", \"confidence\"]\n",
    "study_2 = study_2[[\"own\", \"question\", \"meta\", \"confidence\"]]"
   ]
  },
  {
   "cell_type": "code",
   "execution_count": 35,
   "metadata": {},
   "outputs": [],
   "source": [
    "study_3 = study_3.drop(['subject', 'actual'], axis=1)\n",
    "study_3.columns = [\"own\", \"question\", \"meta\", 'confidence']"
   ]
  },
  {
   "cell_type": "code",
   "execution_count": 36,
   "metadata": {},
   "outputs": [],
   "source": [
    "df_together = pd.concat([study_1c, study_2, study_3])\n",
    "df_together = df_together.reset_index()\n",
    "df_together =  df_together.drop([\"index\"],axis=1)"
   ]
  },
  {
   "cell_type": "code",
   "execution_count": 37,
   "metadata": {},
   "outputs": [],
   "source": [
    "df_together[\"mean_meta\"] = 0\n",
    "df_together[\"std_meta\"] = 0\n",
    "df_together[\"min_meta\"] = 0\n",
    "df_together[\"p25_meta\"] = 0\n",
    "df_together[\"p50_meta\"] = 0\n",
    "df_together[\"p75_meta\"] = 0\n",
    "df_together[\"max_meta\"] = 0\n",
    "df_together[\"mean_conf\"] = 0\n",
    "df_together[\"std_conf\"] = 0\n",
    "df_together[\"min_conf\"] = 0\n",
    "df_together[\"p25_conf\"] = 0\n",
    "df_together[\"p50_conf\"] = 0\n",
    "df_together[\"p75_conf\"] = 0\n",
    "df_together[\"max_conf\"] = 0\n",
    "df_together[\"skew_own\"] = 0\n",
    "df_together[\"skew_meta\"] = 0\n",
    "df_together[\"skew_conf\"] = 0\n",
    "df_together[\"skew_row_average\"] = 0\n",
    "df_together[\"skew_row_skew\"] = 0"
   ]
  },
  {
   "cell_type": "code",
   "execution_count": 38,
   "metadata": {},
   "outputs": [],
   "source": [
    "def meta_conf_stats(sub, q):\n",
    "    descm = sub[\"meta\"].describe()\n",
    "    descc = sub[\"confidence\"].describe()\n",
    "    skewValue_col = sub.skew(axis=0)\n",
    "    skewValue_row = sub.skew(axis=1)\n",
    "    \n",
    "    mean_meta = descm[\"mean\"]\n",
    "    std_meta = descm[\"std\"]\n",
    "    min_meta = descm[\"min\"]\n",
    "    p25_meta = descm[\"25%\"]\n",
    "    p50_meta = descm[\"50%\"]\n",
    "    p75_meta = descm[\"75%\"]\n",
    "    max_meta = descm[\"max\"]\n",
    "\n",
    "    mean_conf = descc[\"mean\"]\n",
    "    std_conf = descc[\"std\"]\n",
    "    min_conf = descc[\"min\"]\n",
    "    p25_conf = descc[\"25%\"]\n",
    "    p50_conf = descc[\"50%\"]\n",
    "    p75_conf = descc[\"75%\"]\n",
    "    max_conf = descc[\"max\"]\n",
    "\n",
    "    skew_own = skewValue_col[\"own\"]\n",
    "    skew_meta = skewValue_col[\"meta\"]\n",
    "    skew_conf = skewValue_col[\"confidence\"]\n",
    "    skew_row_average = skewValue_row.mean()\n",
    "    skew_row_skew = skewValue_row.skew(axis=0)\n",
    "    \n",
    "    df_together.loc[df_together[\"question\"] == q, \"mean_meta\"] = mean_meta\n",
    "    df_together.loc[df_together[\"question\"] == q, \"std_meta\"] = std_meta\n",
    "    df_together.loc[df_together[\"question\"] == q, \"min_meta\"] = min_meta\n",
    "    df_together.loc[df_together[\"question\"] == q, \"p25_meta\"] = p25_meta\n",
    "    df_together.loc[df_together[\"question\"] == q, \"p50_meta\"] = p50_meta\n",
    "    df_together.loc[df_together[\"question\"] == q, \"p75_meta\"] = p75_meta\n",
    "    df_together.loc[df_together[\"question\"] == q, \"max_meta\"] = max_meta\n",
    "    \n",
    "    df_together.loc[df_together[\"question\"] == q, \"mean_conf\"] = mean_conf\n",
    "    df_together.loc[df_together[\"question\"] == q, \"std_conf\"] = std_conf\n",
    "    df_together.loc[df_together[\"question\"] == q, \"min_conf\"] = min_conf\n",
    "    df_together.loc[df_together[\"question\"] == q, \"p25_conf\"] = p25_conf\n",
    "    df_together.loc[df_together[\"question\"] == q, \"p50_conf\"] = p50_conf\n",
    "    df_together.loc[df_together[\"question\"] == q, \"p75_conf\"] = p75_conf\n",
    "    df_together.loc[df_together[\"question\"] == q, \"max_conf\"] = max_conf\n",
    "    \n",
    "    df_together.loc[df_together[\"question\"] == q, \"skew_own\"] = skew_own\n",
    "    df_together.loc[df_together[\"question\"] == q, \"skew_meta\"] = skew_meta\n",
    "    df_together.loc[df_together[\"question\"] == q, \"skew_conf\"] = skew_conf\n",
    "    df_together.loc[df_together[\"question\"] == q, \"skew_row_average\"] = skew_row_average\n",
    "    df_together.loc[df_together[\"question\"] == q, \"skew_row_skew\"] = skew_row_skew"
   ]
  },
  {
   "cell_type": "code",
   "execution_count": 39,
   "metadata": {},
   "outputs": [],
   "source": [
    "questions = df_together[\"question\"].unique()\n",
    "for q in questions: \n",
    "    sub = df_together[df_together[\"question\"] == q]\n",
    "    meta_conf_stats(sub, q)"
   ]
  },
  {
   "cell_type": "code",
   "execution_count": 40,
   "metadata": {},
   "outputs": [],
   "source": [
    "df_together = df_together.groupby([\"question\"]).mean()\n",
    "df_together =  df_together.drop([\"own\", \"meta\", \"confidence\"],axis=1)"
   ]
  },
  {
   "cell_type": "code",
   "execution_count": 43,
   "metadata": {},
   "outputs": [],
   "source": [
    "df_together.to_csv(\"/home/jovyan/DATA_1030/Final_Project/Final_Datasets/extra_features/meta_conf_skew.csv\")"
   ]
  },
  {
   "cell_type": "code",
   "execution_count": null,
   "metadata": {},
   "outputs": [],
   "source": []
  },
  {
   "cell_type": "code",
   "execution_count": null,
   "metadata": {},
   "outputs": [],
   "source": []
  }
 ],
 "metadata": {
  "kernelspec": {
   "display_name": "Python 3",
   "language": "python",
   "name": "python3"
  },
  "language_info": {
   "codemirror_mode": {
    "name": "ipython",
    "version": 3
   },
   "file_extension": ".py",
   "mimetype": "text/x-python",
   "name": "python",
   "nbconvert_exporter": "python",
   "pygments_lexer": "ipython3",
   "version": "3.7.3"
  }
 },
 "nbformat": 4,
 "nbformat_minor": 4
}
