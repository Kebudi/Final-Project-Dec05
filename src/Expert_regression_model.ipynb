{
 "cells": [
  {
   "cell_type": "code",
   "execution_count": 28,
   "metadata": {},
   "outputs": [],
   "source": [
    "import pandas as pd\n",
    "import numpy as np\n",
    "# The following three also have confidence columns in the datasets\n",
    "# Study 1c: Study on 50 U.S. states. state - name of the state, city - name of the city asked\n",
    "# Every state is asked with it's true capital\n",
    "study_1c = pd.read_csv('~/DATA_1030/Final_Project/crowd_wisdom_data/study1c.csv')\n",
    "# Study 2: Trivia. qname - the topic of the trivia question (39 participants, 80 unique qnames)\n",
    "study_2 = pd.read_csv('~/DATA_1030/Final_Project/crowd_wisdom_data/study2.csv')\n",
    "# Study 3: Dermatologists diagnosing lesions as malignant or benign\n",
    "study_3 = pd.read_csv('~/DATA_1030/Final_Project/crowd_wisdom_data/study3.csv')"
   ]
  },
  {
   "cell_type": "code",
   "execution_count": 29,
   "metadata": {},
   "outputs": [],
   "source": [
    "def meta_conf_stats(sub, q):\n",
    "    descm = sub[\"meta\"].describe()\n",
    "    descc = sub[\"confidence\"].describe()\n",
    "    skewValue_col = sub.skew(axis=0)\n",
    "    skewValue_row = sub.skew(axis=1)\n",
    "    \n",
    "    mean_meta = descm[\"mean\"]\n",
    "    std_meta = descm[\"std\"]\n",
    "    min_meta = descm[\"min\"]\n",
    "    p25_meta = descm[\"25%\"]\n",
    "    p50_meta = descm[\"50%\"]\n",
    "    p75_meta = descm[\"75%\"]\n",
    "    max_meta = descm[\"max\"]\n",
    "\n",
    "    mean_conf = descc[\"mean\"]\n",
    "    std_conf = descc[\"std\"]\n",
    "    min_conf = descc[\"min\"]\n",
    "    p25_conf = descc[\"25%\"]\n",
    "    p50_conf = descc[\"50%\"]\n",
    "    p75_conf = descc[\"75%\"]\n",
    "    max_conf = descc[\"max\"]\n",
    "\n",
    "    skew_own = skewValue_col[\"own\"]\n",
    "    skew_meta = skewValue_col[\"meta\"]\n",
    "    skew_conf = skewValue_col[\"confidence\"]\n",
    "    skew_row_average = skewValue_row.mean()\n",
    "    skew_row_skew = skewValue_row.skew(axis=0)\n",
    "    \n",
    "    df_together.loc[df_together[\"question\"] == q, \"mean_meta\"] = mean_meta\n",
    "    df_together.loc[df_together[\"question\"] == q, \"std_meta\"] = std_meta\n",
    "    df_together.loc[df_together[\"question\"] == q, \"min_meta\"] = min_meta\n",
    "    df_together.loc[df_together[\"question\"] == q, \"p25_meta\"] = p25_meta\n",
    "    df_together.loc[df_together[\"question\"] == q, \"p50_meta\"] = p50_meta\n",
    "    df_together.loc[df_together[\"question\"] == q, \"p75_meta\"] = p75_meta\n",
    "    df_together.loc[df_together[\"question\"] == q, \"max_meta\"] = max_meta\n",
    "    \n",
    "    df_together.loc[df_together[\"question\"] == q, \"mean_conf\"] = mean_conf\n",
    "    df_together.loc[df_together[\"question\"] == q, \"std_conf\"] = std_conf\n",
    "    df_together.loc[df_together[\"question\"] == q, \"min_conf\"] = min_conf\n",
    "    df_together.loc[df_together[\"question\"] == q, \"p25_conf\"] = p25_conf\n",
    "    df_together.loc[df_together[\"question\"] == q, \"p50_conf\"] = p50_conf\n",
    "    df_together.loc[df_together[\"question\"] == q, \"p75_conf\"] = p75_conf\n",
    "    df_together.loc[df_together[\"question\"] == q, \"max_conf\"] = max_conf\n",
    "    \n",
    "    df_together.loc[df_together[\"question\"] == q, \"skew_own\"] = skew_own\n",
    "    df_together.loc[df_together[\"question\"] == q, \"skew_meta\"] = skew_meta\n",
    "    df_together.loc[df_together[\"question\"] == q, \"skew_conf\"] = skew_conf\n",
    "    df_together.loc[df_together[\"question\"] == q, \"skew_row_average\"] = skew_row_average\n",
    "    df_together.loc[df_together[\"question\"] == q, \"skew_row_skew\"] = skew_row_skew"
   ]
  },
  {
   "cell_type": "code",
   "execution_count": 30,
   "metadata": {},
   "outputs": [],
   "source": [
    "study_1c = study_1c.drop([\"expt city\"], axis=1)\n",
    "study_2 = study_2.drop(['qname'], axis=1)"
   ]
  },
  {
   "cell_type": "code",
   "execution_count": 31,
   "metadata": {},
   "outputs": [],
   "source": [
    "study_1c.columns = ['question', 'q_id', 'own', 'meta', 'confidence', \"actual\"]\n",
    "study_2.columns = ['q_id','own', 'meta', 'question', \"actual\", 'confidence']\n",
    "study_3.columns = ['q_id','own', 'actual', 'question', 'meta', 'confidence']\n",
    "frames = [study_1c, study_2, study_3]"
   ]
  },
  {
   "cell_type": "code",
   "execution_count": 32,
   "metadata": {},
   "outputs": [
    {
     "name": "stderr",
     "output_type": "stream",
     "text": [
      "/opt/conda/lib/python3.7/site-packages/ipykernel_launcher.py:1: FutureWarning: Sorting because non-concatenation axis is not aligned. A future version\n",
      "of pandas will change to not sort by default.\n",
      "\n",
      "To accept the future behavior, pass 'sort=False'.\n",
      "\n",
      "To retain the current behavior and silence the warning, pass 'sort=True'.\n",
      "\n",
      "  \"\"\"Entry point for launching an IPython kernel.\n"
     ]
    }
   ],
   "source": [
    "result = pd.concat(frames)\n",
    "# result = result.drop([\"actual\"],axis=1)"
   ]
  },
  {
   "cell_type": "code",
   "execution_count": 33,
   "metadata": {},
   "outputs": [],
   "source": [
    "result[\"sc\"] = np.where(result['own'] == 0, 1-result['meta'], result['meta'])\n",
    "result[\"sc*conf\"] = result[\"sc\"]*result[\"confidence\"]\n",
    "result[\"meta*conf\"] = result[\"meta\"]*result[\"confidence\"]\n",
    "result[\"meta*conf*sc\"] = result[\"meta\"]*result[\"confidence\"]*result[\"sc\"]"
   ]
  },
  {
   "cell_type": "code",
   "execution_count": 34,
   "metadata": {},
   "outputs": [],
   "source": [
    "df_together = result"
   ]
  },
  {
   "cell_type": "code",
   "execution_count": 35,
   "metadata": {},
   "outputs": [],
   "source": [
    "questions = df_together[\"question\"].unique()\n",
    "for q in questions: \n",
    "    sub = df_together[df_together[\"question\"] == q]\n",
    "    meta_conf_stats(sub, q)"
   ]
  },
  {
   "cell_type": "code",
   "execution_count": 36,
   "metadata": {},
   "outputs": [],
   "source": [
    "ids = df_together[\"q_id\"].unique()\n",
    "for ind in ids:\n",
    "    individual_dta = df_together.loc[df_together[\"q_id\"] == ind]\n",
    "#     import pdb; pdb.set_trace()\n",
    "    ind_desc = individual_dta.describe()\n",
    "    skewValue_col = individual_dta.skew(axis=0)\n",
    "    \n",
    "    meta_column = ind_desc[\"meta\"]\n",
    "    id_mean_meta = meta_column.loc[\"mean\"]\n",
    "    id_std_meta = meta_column.loc[\"std\"]\n",
    "    id_min_meta = meta_column.loc[\"min\"]\n",
    "    id_p25_meta = meta_column.loc[\"25%\"]\n",
    "    id_p50_meta = meta_column.loc[\"50%\"]\n",
    "    id_p75_meta = meta_column.loc[\"75%\"]\n",
    "    id_max_meta = meta_column.loc[\"max\"]\n",
    "\n",
    "    conf_column = ind_desc[\"confidence\"]\n",
    "    id_mean_conf = conf_column.loc[\"mean\"]\n",
    "    id_std_conf = conf_column.loc[\"std\"]\n",
    "    id_min_conf = conf_column.loc[\"min\"]\n",
    "    id_p25_conf = conf_column.loc[\"25%\"]\n",
    "    id_p50_conf = conf_column.loc[\"50%\"]\n",
    "    id_p75_conf = conf_column.loc[\"75%\"]\n",
    "    id_max_conf = conf_column.loc[\"max\"]\n",
    "\n",
    "    skew_own = skewValue_col[\"own\"]\n",
    "    skew_meta = skewValue_col[\"meta\"]\n",
    "    skew_conf = skewValue_col[\"confidence\"]\n",
    "    skew_sc = skewValue_col[\"sc\"]\n",
    "    skew_scconf = skewValue_col[\"sc*conf\"]\n",
    "    skew_confmeta = skewValue_col[\"meta*conf\"]\n",
    "    skew_metaconfsc = skewValue_col[\"meta*conf*sc\"]\n",
    "\n",
    "    df_together.loc[df_together[\"q_id\"] == ind, \"id_mean_meta\"] = id_mean_meta\n",
    "    df_together.loc[df_together[\"q_id\"] == ind, \"id_std_meta\"] = id_std_meta\n",
    "    df_together.loc[df_together[\"q_id\"] == ind, \"id_min_meta\"] = id_min_meta\n",
    "    df_together.loc[df_together[\"q_id\"] == ind, \"id_p25_meta\"] = id_p25_meta\n",
    "    df_together.loc[df_together[\"q_id\"] == ind, \"id_p50_meta\"] = id_p50_meta\n",
    "    df_together.loc[df_together[\"q_id\"] == ind, \"id_p75_meta\"] = id_p75_meta\n",
    "    df_together.loc[df_together[\"q_id\"] == ind, \"id_max_meta\"] = id_max_meta\n",
    "    \n",
    "    df_together.loc[df_together[\"q_id\"] == ind, \"id_mean_conf\"] = id_mean_conf\n",
    "    df_together.loc[df_together[\"q_id\"] == ind, \"id_std_conf\"] = id_std_conf\n",
    "    df_together.loc[df_together[\"q_id\"] == ind, \"id_min_conf\"] = id_min_conf\n",
    "    df_together.loc[df_together[\"q_id\"] == ind, \"id_p25_conf\"] = id_p25_conf\n",
    "    df_together.loc[df_together[\"q_id\"] == ind, \"id_p50_conf\"] = id_p50_conf\n",
    "    df_together.loc[df_together[\"q_id\"] == ind, \"id_p75_conf\"] = id_p75_conf\n",
    "    df_together.loc[df_together[\"q_id\"] == ind, \"id_max_conf\"] = id_max_conf\n",
    "    \n",
    "    df_together.loc[df_together[\"q_id\"] == ind, \"id_skew_own\"] = skew_own\n",
    "    df_together.loc[df_together[\"q_id\"] == ind, \"id_skew_meta\"] = skew_meta\n",
    "    df_together.loc[df_together[\"q_id\"] == ind, \"id_skew_conf\"] = skew_conf\n",
    "    df_together.loc[df_together[\"q_id\"] == ind, \"id_skew_sc\"] = skew_sc\n",
    "    df_together.loc[df_together[\"q_id\"] == ind, \"id_skew_sc*conf\"] = skew_scconf\n",
    "    df_together.loc[df_together[\"q_id\"] == ind, \"id_skew_meta*conf\"] = skew_confmeta\n",
    "    df_together.loc[df_together[\"q_id\"] == ind, \"id_skew_meta*conf*sc\"] = skew_metaconfsc"
   ]
  },
  {
   "cell_type": "code",
   "execution_count": 37,
   "metadata": {},
   "outputs": [],
   "source": [
    "questions = df_together[\"question\"].unique()\n",
    "for q in questions: \n",
    "    sub = df_together.loc[df_together[\"question\"] == q]"
   ]
  },
  {
   "cell_type": "code",
   "execution_count": 38,
   "metadata": {},
   "outputs": [
    {
     "name": "stderr",
     "output_type": "stream",
     "text": [
      "/opt/conda/lib/python3.7/site-packages/ipykernel_launcher.py:9: SettingWithCopyWarning: \n",
      "A value is trying to be set on a copy of a slice from a DataFrame.\n",
      "Try using .loc[row_indexer,col_indexer] = value instead\n",
      "\n",
      "See the caveats in the documentation: http://pandas.pydata.org/pandas-docs/stable/user_guide/indexing.html#returning-a-view-versus-a-copy\n",
      "  if __name__ == '__main__':\n",
      "/opt/conda/lib/python3.7/site-packages/ipykernel_launcher.py:13: SettingWithCopyWarning: \n",
      "A value is trying to be set on a copy of a slice from a DataFrame.\n",
      "Try using .loc[row_indexer,col_indexer] = value instead\n",
      "\n",
      "See the caveats in the documentation: http://pandas.pydata.org/pandas-docs/stable/user_guide/indexing.html#returning-a-view-versus-a-copy\n",
      "  del sys.path[0]\n",
      "/opt/conda/lib/python3.7/site-packages/ipykernel_launcher.py:15: SettingWithCopyWarning: \n",
      "A value is trying to be set on a copy of a slice from a DataFrame.\n",
      "Try using .loc[row_indexer,col_indexer] = value instead\n",
      "\n",
      "See the caveats in the documentation: http://pandas.pydata.org/pandas-docs/stable/user_guide/indexing.html#returning-a-view-versus-a-copy\n",
      "  from ipykernel import kernelapp as app\n"
     ]
    }
   ],
   "source": [
    "questions = df_together[\"question\"].unique()\n",
    "df_together[\"0_percentage\"] = 0\n",
    "df_together[\"1_percentage\"] = 0\n",
    "for q in questions: \n",
    "    sub = df_together[df_together[\"question\"] == q]\n",
    "    df1 = sub.groupby(['own']).size().reset_index(name='Count')\n",
    "    a = df1[\"Count\"]/len(sub)\n",
    "    try:\n",
    "        sub[\"0_percentage\"] = a.loc[0]\n",
    "    except KeyError:\n",
    "        sub[\"0_percentage\"] = 0\n",
    "    try:\n",
    "        sub[\"1_percentage\"] = a.loc[1]\n",
    "    except KeyError:\n",
    "        sub[\"1_percentage\"] = 0\n",
    "    df_together.update(sub)"
   ]
  },
  {
   "cell_type": "code",
   "execution_count": 39,
   "metadata": {},
   "outputs": [],
   "source": [
    "df_together[\"correct\"] = np.where(df_together['own'] == df_together['actual'], 1, 0) \n",
    "df_together[\"majority_1\"] = np.where(df_together['1_percentage']>0.5, 1, 0)\n",
    "df_together[\"in_major\"] = np.where(df_together['majority_1'] == df_together['own'], 1, 0)\n",
    "df_together[\"in_minor\"] = np.where(df_together['in_major'] == 0, 1, 0)\n",
    "df_together[\"expert\"] = np.where((df_together['in_minor'] == 1)&(df_together['correct']==1), 1, 0) \n",
    "df_together = df_together.drop([\"correct\",\"majority_1\",\"actual\",\"in_major\"],axis=1)"
   ]
  },
  {
   "cell_type": "code",
   "execution_count": 40,
   "metadata": {},
   "outputs": [],
   "source": [
    "df_together.to_csv(\"unprocessed_expert_Classifier.csv\")"
   ]
  },
  {
   "cell_type": "code",
   "execution_count": null,
   "metadata": {},
   "outputs": [],
   "source": []
  },
  {
   "cell_type": "code",
   "execution_count": null,
   "metadata": {},
   "outputs": [],
   "source": []
  },
  {
   "cell_type": "code",
   "execution_count": null,
   "metadata": {},
   "outputs": [],
   "source": []
  },
  {
   "cell_type": "code",
   "execution_count": null,
   "metadata": {},
   "outputs": [],
   "source": []
  },
  {
   "cell_type": "code",
   "execution_count": null,
   "metadata": {},
   "outputs": [],
   "source": []
  },
  {
   "cell_type": "code",
   "execution_count": null,
   "metadata": {},
   "outputs": [],
   "source": []
  },
  {
   "cell_type": "code",
   "execution_count": null,
   "metadata": {},
   "outputs": [],
   "source": []
  },
  {
   "cell_type": "code",
   "execution_count": null,
   "metadata": {},
   "outputs": [],
   "source": []
  },
  {
   "cell_type": "code",
   "execution_count": null,
   "metadata": {},
   "outputs": [],
   "source": []
  },
  {
   "cell_type": "code",
   "execution_count": null,
   "metadata": {},
   "outputs": [],
   "source": []
  },
  {
   "cell_type": "code",
   "execution_count": null,
   "metadata": {},
   "outputs": [],
   "source": []
  }
 ],
 "metadata": {
  "kernelspec": {
   "display_name": "Python 3",
   "language": "python",
   "name": "python3"
  },
  "language_info": {
   "codemirror_mode": {
    "name": "ipython",
    "version": 3
   },
   "file_extension": ".py",
   "mimetype": "text/x-python",
   "name": "python",
   "nbconvert_exporter": "python",
   "pygments_lexer": "ipython3",
   "version": "3.7.3"
  }
 },
 "nbformat": 4,
 "nbformat_minor": 4
}
