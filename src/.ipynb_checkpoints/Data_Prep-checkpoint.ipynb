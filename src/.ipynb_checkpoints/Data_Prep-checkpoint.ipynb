{
 "cells": [
  {
   "cell_type": "code",
   "execution_count": 1,
   "metadata": {},
   "outputs": [],
   "source": [
    "import pandas as pd\n",
    "import numpy as np\n",
    "# The following three also have confidence columns in the datasets\n",
    "# Study 1c: Study on 50 U.S. states. state - name of the state, city - name of the city asked\n",
    "# Every state is asked with it's true capital\n",
    "study_1c = pd.read_csv('~/DATA_1030/Final_Project/crowd_wisdom_data/study1c.csv')\n",
    "# Study 2: Trivia. qname - the topic of the trivia question (39 participants, 80 unique qnames)\n",
    "study_2 = pd.read_csv('~/DATA_1030/Final_Project/crowd_wisdom_data/study2.csv')\n",
    "# Study 3: Dermatologists diagnosing lesions as malignant or benign\n",
    "study_3 = pd.read_csv('~/DATA_1030/Final_Project/crowd_wisdom_data/study3.csv')"
   ]
  },
  {
   "cell_type": "code",
   "execution_count": null,
   "metadata": {},
   "outputs": [],
   "source": [
    "study_1c[\"meta\"] = np.where(study_1c['own'] == 0, 1-study_1c['meta'], study_1c['meta'])\n",
    "study_2[\"meta\"] = np.where(study_2['own'] == 0, 1-study_2['meta'], study_2['meta'])\n",
    "study_3[\"meta\"] = np.where(study_3['own'] == 0, 1-study_3['meta'], study_3['meta'])"
   ]
  },
  {
   "cell_type": "code",
   "execution_count": null,
   "metadata": {},
   "outputs": [],
   "source": [
    "arr_m = []\n",
    "for i in range(0,101,5):\n",
    "    i = i/100\n",
    "    arr_m = arr_m + [i]\n",
    "    \n",
    "arr_c = []\n",
    "for i in range(50,101,5):\n",
    "    i = i/100\n",
    "    arr_c = arr_c + [i]"
   ]
  },
  {
   "cell_type": "code",
   "execution_count": null,
   "metadata": {},
   "outputs": [],
   "source": [
    "# Participant number: 33\n",
    "study_1c = study_1c.rename(columns = {'state':'q'})\n",
    "study_1c = study_1c.drop([\"subject\", \"expt city\"], axis=1)"
   ]
  },
  {
   "cell_type": "code",
   "execution_count": null,
   "metadata": {},
   "outputs": [],
   "source": [
    "study_1c['meta'] = pd.cut(study_1c['meta'], arr_m)\n",
    "study_1c['confidence'] = pd.cut(study_1c['confidence'], arr_c)\n",
    "meta_count = study_1c.groupby(['q','meta']).size()\n",
    "confidence_count = study_1c.groupby('confidence').size()"
   ]
  },
  {
   "cell_type": "code",
   "execution_count": null,
   "metadata": {},
   "outputs": [],
   "source": [
    "meta_count = study_1c.groupby(['q','meta']).size()\n",
    "meta_count = meta_count.to_frame()\n",
    "confidence_count = study_1c.groupby(['q','confidence']).size()\n",
    "confidence_count = confidence_count.to_frame()\n",
    "participant_count = study_1c.groupby('q').size()\n",
    "participant_count = participant_count.to_frame()"
   ]
  },
  {
   "cell_type": "code",
   "execution_count": null,
   "metadata": {},
   "outputs": [],
   "source": [
    "meta_count = meta_count.reset_index().pivot(index='q',columns='meta',values=0)\n",
    "confidence_count = confidence_count.reset_index().pivot(index='q',columns='confidence',values=0)"
   ]
  },
  {
   "cell_type": "code",
   "execution_count": null,
   "metadata": {},
   "outputs": [],
   "source": [
    "meta_count = meta_count.fillna(0)\n",
    "confidence_count = confidence_count.fillna(0)"
   ]
  },
  {
   "cell_type": "code",
   "execution_count": null,
   "metadata": {},
   "outputs": [],
   "source": [
    "cols = meta_count.columns\n",
    "arr_meta = []\n",
    "for col in cols:\n",
    "    col = \"meta_\" + f\"{col}\"\n",
    "    arr_meta = arr_meta + [col]\n",
    "meta_count.columns = arr_meta\n",
    "\n",
    "cols = confidence_count.columns\n",
    "arr_conf = []\n",
    "for col in cols:\n",
    "    col = \"confidence_\" + f\"{col}\"\n",
    "    arr_conf = arr_conf + [col]\n",
    "confidence_count.columns = arr_conf"
   ]
  },
  {
   "cell_type": "code",
   "execution_count": null,
   "metadata": {},
   "outputs": [],
   "source": [
    "meta_count = meta_count/33\n",
    "confidence_count = confidence_count/33\n",
    "df_s1_own = study_1c.groupby('q', as_index=False)['own'].mean()\n",
    "df_s1_own[\"topic\"] = 'state'\n",
    "df_s1_own[\"number_of_participants\"] = 33\n",
    "df_s1_own = df_s1_own.set_index('q')\n",
    "df_s1_acc = study_1c.groupby('q', as_index=False)['actual'].mean()\n",
    "df_s1_acc = df_s1_acc.set_index('q')"
   ]
  },
  {
   "cell_type": "code",
   "execution_count": null,
   "metadata": {},
   "outputs": [],
   "source": [
    "final_1c = pd.concat([df_s1_own, meta_count, confidence_count, df_s1_acc], axis=1)"
   ]
  },
  {
   "cell_type": "code",
   "execution_count": null,
   "metadata": {},
   "outputs": [],
   "source": [
    "# Participant number: 39\n",
    "study_2[\"topic\"] = \"trivia_\" + study_2[\"qname\"]\n",
    "study_2 = study_2.rename(columns = {'qtext':'q'})\n",
    "study_2 = study_2.drop(['subject', 'qname'], axis=1)"
   ]
  },
  {
   "cell_type": "code",
   "execution_count": null,
   "metadata": {},
   "outputs": [],
   "source": [
    "study_2['meta'] = pd.cut(study_2['meta'], arr_m)\n",
    "study_2['confidence'] = pd.cut(study_2['confidence'], arr_c)\n",
    "meta_count = study_2.groupby(['q','meta']).size()\n",
    "confidence_count = study_2.groupby('confidence').size()"
   ]
  },
  {
   "cell_type": "code",
   "execution_count": null,
   "metadata": {},
   "outputs": [],
   "source": [
    "meta_count = study_2.groupby(['q','meta']).size()\n",
    "meta_count = meta_count.to_frame()\n",
    "confidence_count = study_2.groupby(['q','confidence']).size()\n",
    "confidence_count = confidence_count.to_frame()\n",
    "participant_count = study_2.groupby('q').size()\n",
    "participant_count = participant_count.to_frame()"
   ]
  },
  {
   "cell_type": "code",
   "execution_count": null,
   "metadata": {},
   "outputs": [],
   "source": [
    "meta_count = meta_count.reset_index().pivot(index='q',columns='meta',values=0)\n",
    "confidence_count = confidence_count.reset_index().pivot(index='q',columns='confidence',values=0)"
   ]
  },
  {
   "cell_type": "code",
   "execution_count": null,
   "metadata": {},
   "outputs": [],
   "source": [
    "meta_count = meta_count.fillna(0)\n",
    "confidence_count = confidence_count.fillna(0)"
   ]
  },
  {
   "cell_type": "code",
   "execution_count": null,
   "metadata": {},
   "outputs": [],
   "source": [
    "cols = meta_count.columns\n",
    "arr_meta = []\n",
    "for col in cols:\n",
    "    col = \"meta_\" + f\"{col}\"\n",
    "    arr_meta = arr_meta + [col]\n",
    "meta_count.columns = arr_meta\n",
    "\n",
    "cols = confidence_count.columns\n",
    "arr_conf = []\n",
    "for col in cols:\n",
    "    col = \"confidence_\" + f\"{col}\"\n",
    "    arr_conf = arr_conf + [col]\n",
    "confidence_count.columns = arr_conf"
   ]
  },
  {
   "cell_type": "code",
   "execution_count": null,
   "metadata": {},
   "outputs": [],
   "source": [
    "meta_count = meta_count/39\n",
    "confidence_count = confidence_count/39\n",
    "df_s2_own = study_2.groupby('q', as_index=False)['own'].mean()\n",
    "df_s2_own[\"number_of_participants\"] = 39\n",
    "df_s2_own = df_s2_own.set_index('q')\n",
    "df_s2_acc = study_2.groupby('q', as_index=False)['actual'].mean()\n",
    "df_s2_acc = df_s2_acc.set_index('q')\n",
    "df_s2_topic = study_2.groupby(['q']).agg(lambda x:x.value_counts().index[0])\n",
    "df_s2_topic = df_s2_topic.drop([\"own\", 'meta', 'actual', 'confidence'], axis=1)"
   ]
  },
  {
   "cell_type": "code",
   "execution_count": null,
   "metadata": {},
   "outputs": [],
   "source": [
    "final_2 = pd.concat([df_s2_own, df_s2_topic, meta_count, confidence_count], axis=1)\n",
    "final_2[\"confidence_(0.5, 0.55]\"] = 0.0\n",
    "final_2[\"confidence_(0.6, 0.65]\"] = 0.0\n",
    "final_2[\"confidence_(0.7, 0.75]\"] = 0.0\n",
    "final_2[\"confidence_(0.8, 0.85]\"] = 0.0\n",
    "final_2[\"confidence_(0.9, 0.95]\"] = 0.0\n",
    "final_2 = pd.concat([final_2, df_s2_acc], axis=1)"
   ]
  },
  {
   "cell_type": "code",
   "execution_count": null,
   "metadata": {},
   "outputs": [],
   "source": [
    "# Participant number: 25\n",
    "study_3 = study_3.rename(columns = {'image':'q'})\n",
    "study_3 = study_3.drop(['subject'], axis=1)"
   ]
  },
  {
   "cell_type": "code",
   "execution_count": null,
   "metadata": {},
   "outputs": [],
   "source": [
    "study_3['meta'] = pd.cut(study_3['meta'], arr_m)\n",
    "study_3['confidence'] = pd.cut(study_3['confidence'], arr_c)\n",
    "meta_count = study_3.groupby(['q','meta']).size()\n",
    "confidence_count = study_3.groupby('confidence').size()"
   ]
  },
  {
   "cell_type": "code",
   "execution_count": null,
   "metadata": {},
   "outputs": [],
   "source": [
    "meta_count = study_3.groupby(['q','meta']).size()\n",
    "meta_count = meta_count.to_frame()\n",
    "confidence_count = study_3.groupby(['q','confidence']).size()\n",
    "confidence_count = confidence_count.to_frame()\n",
    "participant_count = study_3.groupby('q').size()\n",
    "participant_count = participant_count.to_frame()"
   ]
  },
  {
   "cell_type": "code",
   "execution_count": null,
   "metadata": {},
   "outputs": [],
   "source": [
    "meta_count = meta_count.reset_index().pivot(index='q',columns='meta',values=0)\n",
    "confidence_count = confidence_count.reset_index().pivot(index='q',columns='confidence',values=0)"
   ]
  },
  {
   "cell_type": "code",
   "execution_count": null,
   "metadata": {},
   "outputs": [],
   "source": [
    "meta_count = meta_count.fillna(0)\n",
    "confidence_count = confidence_count.fillna(0)"
   ]
  },
  {
   "cell_type": "code",
   "execution_count": null,
   "metadata": {},
   "outputs": [],
   "source": [
    "cols = meta_count.columns\n",
    "arr_meta = []\n",
    "for col in cols:\n",
    "    col = \"meta_\" + f\"{col}\"\n",
    "    arr_meta = arr_meta + [col]\n",
    "meta_count.columns = arr_meta\n",
    "\n",
    "cols = confidence_count.columns\n",
    "arr_conf = []\n",
    "for col in cols:\n",
    "    col = \"confidence_\" + f\"{col}\"\n",
    "    arr_conf = arr_conf + [col]\n",
    "confidence_count.columns = arr_conf"
   ]
  },
  {
   "cell_type": "code",
   "execution_count": null,
   "metadata": {},
   "outputs": [],
   "source": [
    "meta_count = meta_count/25\n",
    "confidence_count = confidence_count/25\n",
    "df_s3_own = study_3.groupby('q', as_index=False)['own'].mean()\n",
    "df_s3_own[\"topic\"] = 'dermatology'\n",
    "df_s3_own[\"number_of_participants\"] = 25\n",
    "df_s3_own = df_s3_own.set_index('q')\n",
    "df_s3_acc = study_3.groupby('q', as_index=False)['actual'].mean()\n",
    "df_s3_acc = df_s3_acc.set_index('q')\n",
    "df_s3_topic = study_3.groupby(['q']).agg(lambda x:x.value_counts().index[0])\n",
    "df_s3_topic = df_s3_topic.drop([\"own\", 'meta', 'actual', 'confidence'], axis=1)"
   ]
  },
  {
   "cell_type": "code",
   "execution_count": null,
   "metadata": {},
   "outputs": [],
   "source": [
    "final_3 = pd.concat([df_s3_own, df_s3_topic, meta_count, confidence_count], axis=1)\n",
    "final_3[\"confidence_(0.5, 0.55]\"] = 0.0\n",
    "final_3[\"confidence_(0.6, 0.65]\"] = 0.0\n",
    "final_3[\"confidence_(0.7, 0.75]\"] = 0.0\n",
    "final_3[\"confidence_(0.8, 0.85]\"] = 0.0\n",
    "final_3[\"confidence_(0.9, 0.95]\"] = 0.0\n",
    "final_3[\"meta_(0.0, 0.05]\"] = 0.0\n",
    "final_3['meta_(0.1, 0.15]'] = 0.0\n",
    "final_3['meta_(0.2, 0.25]'] = 0.0\n",
    "final_3['meta_(0.3, 0.35]'] = 0.0\n",
    "final_3['meta_(0.4, 0.45]'] = 0.0\n",
    "final_3['meta_(0.5, 0.55]'] = 0.0\n",
    "final_3['meta_(0.6, 0.65]'] = 0.0\n",
    "final_3['meta_(0.7, 0.75]'] = 0.0\n",
    "final_3['meta_(0.8, 0.85]'] = 0.0\n",
    "final_3['meta_(0.9, 0.95]'] = 0.0\n",
    "final_3 = pd.concat([final_3, df_s3_acc], axis=1)"
   ]
  },
  {
   "cell_type": "code",
   "execution_count": null,
   "metadata": {},
   "outputs": [],
   "source": [
    "frames = [final_1c, final_2, final_3]\n",
    "result = pd.concat(frames)"
   ]
  },
  {
   "cell_type": "code",
   "execution_count": null,
   "metadata": {},
   "outputs": [],
   "source": [
    "result.to_csv(\"core_features.csv\")"
   ]
  }
 ],
 "metadata": {
  "kernelspec": {
   "display_name": "Python 3",
   "language": "python",
   "name": "python3"
  },
  "language_info": {
   "codemirror_mode": {
    "name": "ipython",
    "version": 3
   },
   "file_extension": ".py",
   "mimetype": "text/x-python",
   "name": "python",
   "nbconvert_exporter": "python",
   "pygments_lexer": "ipython3",
   "version": "3.7.3"
  }
 },
 "nbformat": 4,
 "nbformat_minor": 4
}
